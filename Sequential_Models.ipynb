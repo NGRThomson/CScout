{
  "nbformat": 4,
  "nbformat_minor": 0,
  "metadata": {
    "colab": {
      "name": "Sequential_Models.ipynb",
      "version": "0.3.2",
      "provenance": [],
      "collapsed_sections": []
    },
    "kernelspec": {
      "display_name": "Python 3",
      "language": "python",
      "name": "python3"
    },
    "accelerator": "GPU"
  },
  "cells": [
    {
      "metadata": {
        "id": "KHBCO9QtL4rv",
        "colab_type": "code",
        "colab": {}
      },
      "cell_type": "code",
      "source": [
        "from keras.layers import Dense, Dropout, LSTM, Embedding, Flatten, TimeDistributed, Bidirectional, Lambda, Input, CuDNNLSTM, BatchNormalization, CuDNNGRU\n",
        "from keras.preprocessing.sequence import pad_sequences\n",
        "from keras.models import Sequential, Model, load_model\n",
        "from sklearn import metrics, preprocessing, feature_selection\n",
        "import matplotlib.pyplot as plt\n",
        "from collections import defaultdict\n",
        "import tensorflow as tf\n",
        "import hyperas as hp\n",
        "import pandas as pd\n",
        "import numpy as np\n",
        "import keras\n",
        "import io\n",
        "import random"
      ],
      "execution_count": 0,
      "outputs": []
    },
    {
      "metadata": {
        "id": "MSQ_f8D2uE57",
        "colab_type": "code",
        "colab": {}
      },
      "cell_type": "code",
      "source": [
        "random.seed(42)"
      ],
      "execution_count": 0,
      "outputs": []
    },
    {
      "metadata": {
        "id": "JBLfaLfRzTY-",
        "colab_type": "code",
        "colab": {
          "base_uri": "https://localhost:8080/",
          "height": 34
        },
        "outputId": "c57a6c95-ed04-476f-a994-64649a2e1a82"
      },
      "cell_type": "code",
      "source": [
        "!ls"
      ],
      "execution_count": 0,
      "outputs": [
        {
          "output_type": "stream",
          "text": [
            "sample_data\n"
          ],
          "name": "stdout"
        }
      ]
    },
    {
      "metadata": {
        "id": "UixbHWthNXi2",
        "colab_type": "code",
        "colab": {
          "resources": {
            "http://localhost:8080/nbextensions/google.colab/files.js": {
              "data": "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",
              "ok": true,
              "headers": [
                [
                  "content-type",
                  "application/javascript"
                ]
              ],
              "status": 200,
              "status_text": ""
            }
          },
          "base_uri": "https://localhost:8080/",
          "height": 72
        },
        "outputId": "a0e07b7b-7540-459e-c447-3a9c67e43d7c"
      },
      "cell_type": "code",
      "source": [
        "from google.colab import files\n",
        "uploaded = files.upload()"
      ],
      "execution_count": 0,
      "outputs": [
        {
          "output_type": "display_data",
          "data": {
            "text/html": [
              "\n",
              "     <input type=\"file\" id=\"files-7a7d0007-606d-494a-b65e-170916a60528\" name=\"files[]\" multiple disabled />\n",
              "     <output id=\"result-7a7d0007-606d-494a-b65e-170916a60528\">\n",
              "      Upload widget is only available when the cell has been executed in the\n",
              "      current browser session. Please rerun this cell to enable.\n",
              "      </output>\n",
              "      <script src=\"/nbextensions/google.colab/files.js\"></script> "
            ],
            "text/plain": [
              "<IPython.core.display.HTML object>"
            ]
          },
          "metadata": {
            "tags": []
          }
        },
        {
          "output_type": "stream",
          "text": [
            "Saving data1.csv to data1.csv\n"
          ],
          "name": "stdout"
        }
      ]
    },
    {
      "metadata": {
        "id": "6TzRM5s1L4r6",
        "colab_type": "code",
        "colab": {}
      },
      "cell_type": "code",
      "source": [
        "inputs = pd.read_csv(io.StringIO(uploaded['data1.csv'].decode('utf-8')))\n",
        "# inputs = pd.read_csv('data1.csv')\n"
      ],
      "execution_count": 0,
      "outputs": []
    },
    {
      "metadata": {
        "id": "TlBPD7ilL4sA",
        "colab_type": "code",
        "colab": {}
      },
      "cell_type": "code",
      "source": [
        "inputs = inputs[[\"task_id\", \"task_duration\", \"panel_out\", \"event_type\", \"original\", \"label\"]]"
      ],
      "execution_count": 0,
      "outputs": []
    },
    {
      "metadata": {
        "id": "kgg9FBZcC3en",
        "colab_type": "code",
        "colab": {
          "base_uri": "https://localhost:8080/",
          "height": 204
        },
        "outputId": "21d4d834-7781-430f-f130-06d1354a6260"
      },
      "cell_type": "code",
      "source": [
        "inputs.head()"
      ],
      "execution_count": 0,
      "outputs": [
        {
          "output_type": "execute_result",
          "data": {
            "text/html": [
              "<div>\n",
              "<style scoped>\n",
              "    .dataframe tbody tr th:only-of-type {\n",
              "        vertical-align: middle;\n",
              "    }\n",
              "\n",
              "    .dataframe tbody tr th {\n",
              "        vertical-align: top;\n",
              "    }\n",
              "\n",
              "    .dataframe thead th {\n",
              "        text-align: right;\n",
              "    }\n",
              "</style>\n",
              "<table border=\"1\" class=\"dataframe\">\n",
              "  <thead>\n",
              "    <tr style=\"text-align: right;\">\n",
              "      <th></th>\n",
              "      <th>task_id</th>\n",
              "      <th>task_duration</th>\n",
              "      <th>panel_out</th>\n",
              "      <th>event_type</th>\n",
              "      <th>original</th>\n",
              "      <th>label</th>\n",
              "    </tr>\n",
              "  </thead>\n",
              "  <tbody>\n",
              "    <tr>\n",
              "      <th>0</th>\n",
              "      <td>1</td>\n",
              "      <td>0</td>\n",
              "      <td>0</td>\n",
              "      <td>0</td>\n",
              "      <td>0</td>\n",
              "      <td>1</td>\n",
              "    </tr>\n",
              "    <tr>\n",
              "      <th>1</th>\n",
              "      <td>1</td>\n",
              "      <td>6</td>\n",
              "      <td>0</td>\n",
              "      <td>0</td>\n",
              "      <td>0</td>\n",
              "      <td>1</td>\n",
              "    </tr>\n",
              "    <tr>\n",
              "      <th>2</th>\n",
              "      <td>1</td>\n",
              "      <td>6</td>\n",
              "      <td>0</td>\n",
              "      <td>1</td>\n",
              "      <td>1</td>\n",
              "      <td>1</td>\n",
              "    </tr>\n",
              "    <tr>\n",
              "      <th>3</th>\n",
              "      <td>1</td>\n",
              "      <td>36</td>\n",
              "      <td>0</td>\n",
              "      <td>2</td>\n",
              "      <td>1</td>\n",
              "      <td>1</td>\n",
              "    </tr>\n",
              "    <tr>\n",
              "      <th>4</th>\n",
              "      <td>1</td>\n",
              "      <td>62</td>\n",
              "      <td>0</td>\n",
              "      <td>3</td>\n",
              "      <td>1</td>\n",
              "      <td>1</td>\n",
              "    </tr>\n",
              "  </tbody>\n",
              "</table>\n",
              "</div>"
            ],
            "text/plain": [
              "   task_id  task_duration  panel_out  event_type  original  label\n",
              "0        1              0          0           0         0      1\n",
              "1        1              6          0           0         0      1\n",
              "2        1              6          0           1         1      1\n",
              "3        1             36          0           2         1      1\n",
              "4        1             62          0           3         1      1"
            ]
          },
          "metadata": {
            "tags": []
          },
          "execution_count": 8
        }
      ]
    },
    {
      "metadata": {
        "id": "KNbqg0ZP03cv",
        "colab_type": "code",
        "colab": {}
      },
      "cell_type": "code",
      "source": [
        "\n",
        "nb_events = len(set(inputs.event_type))\n",
        "nb_urls = len(set(inputs.original))\n",
        "\n",
        "inputs = inputs[inputs[\"event_type\"] != 4]\n",
        "\n",
        "\n",
        "event_mapping = dict(zip((i for i in range(nb_events)), (np.eye(nb_events)[i] for i in range(nb_events))))\n",
        "inputs[\"event_binarized\"] = inputs.event_type.map(event_mapping)\n",
        "\n",
        "url_mapping = dict(zip((i for i in range(nb_urls)), (np.eye(nb_urls)[i] for i in range(nb_urls))))\n",
        "inputs[\"url_binarized\"] = inputs.original.map(url_mapping)"
      ],
      "execution_count": 0,
      "outputs": []
    },
    {
      "metadata": {
        "id": "DZeZjNcdL4s8",
        "colab_type": "code",
        "colab": {}
      },
      "cell_type": "code",
      "source": [
        "inputs = inputs[['task_id', \"task_duration\",\"panel_out\", \"event_binarized\", \"url_binarized\", \"label\"]]"
      ],
      "execution_count": 0,
      "outputs": []
    },
    {
      "metadata": {
        "id": "kYbWys-wYQnV",
        "colab_type": "code",
        "colab": {}
      },
      "cell_type": "code",
      "source": [
        "inputs['dwell_time'] = inputs['task_duration'].diff()\n",
        "inputs.dwell_time = inputs.dwell_time.clip(lower=0)\n",
        "total_time = sum(inputs.dwell_time.fillna(0))"
      ],
      "execution_count": 0,
      "outputs": []
    },
    {
      "metadata": {
        "id": "BrsdTGLpj7d4",
        "colab_type": "code",
        "colab": {}
      },
      "cell_type": "code",
      "source": [
        "float_array = inputs['dwell_time'].fillna(0).values.astype(float).reshape(-1,1)\n",
        "min_max_scaler = preprocessing.MinMaxScaler()\n",
        "scaled_array = min_max_scaler.fit_transform(float_array)\n",
        "inputs.dwell_time = scaled_array"
      ],
      "execution_count": 0,
      "outputs": []
    },
    {
      "metadata": {
        "id": "g8MLtn5hL4tI",
        "colab_type": "code",
        "colab": {}
      },
      "cell_type": "code",
      "source": [
        "inputs['change'] = inputs['task_id'].diff()"
      ],
      "execution_count": 0,
      "outputs": []
    },
    {
      "metadata": {
        "id": "fSH3L9JbDvnO",
        "colab_type": "code",
        "colab": {
          "base_uri": "https://localhost:8080/",
          "height": 34
        },
        "outputId": "64e767a3-7df5-45de-c067-5140f5f294d6"
      },
      "cell_type": "code",
      "source": [
        "average_length = len(inputs)/max(inputs.task_id)\n",
        "average_duration = float(total_time)/max(inputs.task_id)\n",
        "average_length, average_duration"
      ],
      "execution_count": 0,
      "outputs": [
        {
          "output_type": "execute_result",
          "data": {
            "text/plain": [
              "(31.317862689271387, 590.846560760968)"
            ]
          },
          "metadata": {
            "tags": []
          },
          "execution_count": 14
        }
      ]
    },
    {
      "metadata": {
        "id": "OCrsySTzmEVu",
        "colab_type": "code",
        "colab": {}
      },
      "cell_type": "code",
      "source": [
        "tasks = defaultdict(list)\n",
        "\n",
        "for key, value in inputs.task_id.value_counts().items():\n",
        "        \n",
        "        tasks[value].append(key)"
      ],
      "execution_count": 0,
      "outputs": []
    },
    {
      "metadata": {
        "id": "rcNa-R8xqNQl",
        "colab_type": "code",
        "colab": {}
      },
      "cell_type": "code",
      "source": [
        "def process_column_values(values, dim1, dim2, dim3):\n",
        "    concat_values = np.concatenate(values)\n",
        "    reshaped_values = concat_values.reshape(dim1, dim2, dim3)\n",
        "    \n",
        "    return reshaped_values\n",
        "\n",
        "\n",
        "def process_column_values_50(values, dim1, dim2, dim3):\n",
        "    concat_values = np.concatenate(values)\n",
        "    reshaped_values = concat_values.reshape(dim1, dim2, dim3)\n",
        "    \n",
        "    if dim2 < 100:\n",
        "        fill = 100 - dim2\n",
        "        padding = np.zeros((dim1, fill, dim3))\n",
        "        final_values = np.concatenate((padding, reshaped_values), axis = 1)\n",
        "    else:\n",
        "        final_values = reshaped_values[:,-100:, :]\n",
        "\n",
        "    return final_values\n",
        "\n",
        "\n",
        "def get_domain_values(values, number, length):\n",
        "    domain_values = []\n",
        "    for i in range(1, number + 1):\n",
        "        domain_values.append(values.iloc[length * i - 1])\n",
        "        \n",
        "    return np.array(domain_values)\n",
        "\n",
        "\n",
        "batches = []\n",
        "jump = []\n",
        "\n",
        "for length in range(10, 1001):\n",
        "    \n",
        "    num_length = len(tasks[length])\n",
        "    \n",
        "    if num_length > 0:\n",
        "\n",
        "        dataset = inputs[pd.Series.isin(inputs[\"task_id\"], tasks[length])] \n",
        "\n",
        "\n",
        "        durations = get_domain_values(dataset.task_duration, num_length, length)\n",
        "        lengths = np.array([length] * num_length)\n",
        "        targets = get_domain_values(dataset.label, num_length, length)\n",
        "\n",
        "        \n",
        "        urls = process_column_values(dataset.url_binarized.values, num_length, length, nb_urls)\n",
        "        events = process_column_values(dataset.event_binarized.values, num_length, length, nb_events)\n",
        "        dwell = process_column_values([dataset.dwell_time.values], num_length, length, 1)\n",
        "        panel = process_column_values([dataset.panel_out.values], num_length, length, 1)\n",
        "\n",
        "        batches.append((events, urls, panel, dwell, durations, lengths, targets))\n"
      ],
      "execution_count": 0,
      "outputs": []
    },
    {
      "metadata": {
        "id": "ONd5WP1cL4uV",
        "colab_type": "code",
        "colab": {}
      },
      "cell_type": "code",
      "source": [
        "np.random.shuffle(batches)\n",
        "train_batches = batches[:int(0.8*len(batches))]\n",
        "valid_batches = batches[int(0.8*len(batches)):int(0.9*len(batches))]\n",
        "test_batches = batches[int(0.8*len(batches)):]"
      ],
      "execution_count": 0,
      "outputs": []
    },
    {
      "metadata": {
        "id": "Bmf0sOimKZ-B",
        "colab_type": "code",
        "colab": {}
      },
      "cell_type": "code",
      "source": [
        "max_epochs = 10 \n",
        "dense_size = 150 \n",
        "rnn_size = 200\n",
        "dropout = 0.3\n",
        "learning_rate = 0.001\n",
        "\n",
        "event_input = Input(shape=(None, 17))\n",
        "url_input = Input(shape=(None, 167))\n",
        "panel_input = Input(shape=(None, 1))\n",
        "dwell_input = Input(shape=(None, 1))\n",
        "duration_input = Input(shape=(1,))\n",
        "length_input = Input(shape=(1, ))\n",
        "\n",
        "x1 = (event_input)\n",
        "x2 = (url_input)\n",
        "\n",
        "x = keras.layers.concatenate([x1, x2])\n",
        "x = CuDNNGRU(rnn_size, return_sequences=False)(x)\n",
        "x = Dense(dense_size)(x)\n",
        "x = Dropout(dropout)(x)\n",
        "\n",
        "predictions = Dense(1, activation='sigmoid')(x)\n",
        "\n",
        "\n",
        "model2 = Model(inputs=[event_input, url_input, panel_input, dwell_input, duration_input, length_input], outputs=predictions)\n",
        "\n",
        "opt = keras.optimizers.Adam(lr=learning_rate)\n",
        "\n",
        "model2.compile(optimizer=opt,\n",
        "              loss='binary_crossentropy',\n",
        "              metrics=['accuracy'])\n",
        "\n",
        "class_weight = {0: 1.,\n",
        "                1: 7}\n",
        "\n",
        "previous_roc = 0\n",
        "\n",
        "for epoch in range(max_epochs):\n",
        "    valid_predict = []\n",
        "    valid_true = []\n",
        "    count = 0 \n",
        "    length = 0\n",
        "    np.random.shuffle(train_batches)\n",
        "    for batch in train_batches:\n",
        "        model2.fit([batch[0], batch[1], batch[2], batch[3], batch[4], batch[5]], batch[6], class_weight = class_weight, verbose=0)  # starts training \n",
        "    for batch in valid_batches:\n",
        "        predictors = model2.predict_on_batch([batch[0], batch[1], batch[2], batch[3], batch[4], batch[5]])\n",
        "\n",
        "        valid_predict.append(np.around(predictors))\n",
        "        valid_true.append(batch[6])\n",
        "\n",
        "    valid_predict = np.concatenate(valid_predict)    \n",
        "    valid_true = np.concatenate(valid_true)\n",
        "    roc = metrics.f1_score(valid_true, valid_predict, average=None)[1]\n",
        "    map = metrics.average_precision_score(valid_true, valid_predict)\n",
        "    previous_roc = roc\n",
        "    print(\"epoch: {0}  F1_1: {1:.3f}  ROC: {2:.3f}  MAP: {3: .3f}\".format(epoch+1, roc, metrics.roc_auc_score(valid_true, valid_predict), map))"
      ],
      "execution_count": 0,
      "outputs": []
    },
    {
      "metadata": {
        "id": "HCXX0QFDQj6-",
        "colab_type": "code",
        "colab": {},
        "cellView": "both"
      },
      "cell_type": "code",
      "source": [
        "\n",
        "max_epochs = 10 \n",
        "dense_size = 200 \n",
        "dense_size_2 = 100 \n",
        "rnn_size = 200 \n",
        "dropout = 0.3 \n",
        "learning_rate = 0.001 \n",
        "\n",
        "event_input = Input(shape=(None, 17))\n",
        "url_input = Input(shape=(None, 167))\n",
        "panel_input = Input(shape=(None, 1))\n",
        "dwell_input = Input(shape=(None, 1))\n",
        "duration_input = Input(shape=(1,))\n",
        "length_input = Input(shape=(1, ))\n",
        "\n",
        "x1 = Dense(14)(event_input)\n",
        "x2 = Dense(140)(url_input)\n",
        "\n",
        "x = keras.layers.concatenate([x1, x2])\n",
        "x = Bidirectional(CuDNNGRU(rnn_size, return_sequences=True))(x)\n",
        "\n",
        "x = Bidirectional(CuDNNGRU(rnn_size, return_sequences=False))(x)\n",
        "\n",
        "\n",
        "x = Dense(dense_size)(x)\n",
        "\n",
        "x = Dropout(dropout)(x)\n",
        "\n",
        "x = Dense(dense_size_2)(x)\n",
        "\n",
        "x = Dropout(dropout)(x)\n",
        "predictions = Dense(1, activation='sigmoid')(x)\n",
        "\n",
        "\n",
        "model3 = Model(inputs=[event_input, url_input, panel_input, dwell_input, duration_input, length_input], outputs=predictions)\n",
        "\n",
        "opt = keras.optimizers.Adam(lr=learning_rate)\n",
        "\n",
        "model3.compile(optimizer=opt,\n",
        "              loss='binary_crossentropy',\n",
        "              metrics=['accuracy'])\n",
        "\n",
        "class_weight = {0: 1.,\n",
        "                1: 7.}\n",
        "\n",
        "previous_roc = 0\n",
        "\n",
        "for epoch in range(max_epochs):\n",
        "    valid_predict = []\n",
        "    valid_true = []\n",
        "    count = 0 \n",
        "    length = 0\n",
        "    np.random.shuffle(train_batches)\n",
        "    for batch in train_batches:\n",
        "        model3.fit([batch[0], batch[1], batch[2], batch[3], batch[4], batch[5]], batch[6], class_weight = class_weight, verbose=0)  # starts training \n",
        "    for batch in valid_batches:\n",
        "        predictors = model3.predict_on_batch([batch[0], batch[1], batch[2], batch[3], batch[4], batch[5]])\n",
        "\n",
        "        valid_predict.append(np.around(predictors))\n",
        "        valid_true.append(batch[6])\n",
        "\n",
        "    valid_predict = np.concatenate(valid_predict)    \n",
        "    valid_true = np.concatenate(valid_true)\n",
        "    roc = metrics.f1_score(valid_true, valid_predict, average=None)[1]\n",
        "    map = metrics.average_precision_score(valid_true, valid_predict)\n",
        "    previous_roc = roc\n",
        "    print(\"epoch: {0}  F1_1: {1:.3f}  ROC: {2:.3f}  MAP: {3: .3f}\".format(epoch+1, roc, metrics.roc_auc_score(valid_true, valid_predict), map))"
      ],
      "execution_count": 0,
      "outputs": []
    },
    {
      "metadata": {
        "id": "AMpdI86Cut2o",
        "colab_type": "code",
        "colab": {}
      },
      "cell_type": "code",
      "source": [
        "\n",
        "max_epochs = 10 \n",
        "dense_size = 200 \n",
        "dense_size_2 = 100 \n",
        "rnn_size = 200 \n",
        "dropout = 0.3 \n",
        "learning_rate = 0.001 \n",
        "\n",
        "event_input = Input(shape=(None, 17))\n",
        "url_input = Input(shape=(None, 167))\n",
        "panel_input = Input(shape=(None, 1))\n",
        "dwell_input = Input(shape=(None, 1))\n",
        "duration_input = Input(shape=(1,))\n",
        "length_input = Input(shape=(1, ))\n",
        "\n",
        "x1 = Dense(14)(event_input)\n",
        "x2 = Dense(140)(url_input)\n",
        "\n",
        "x1 = Bidirectional(CuDNNGRU(rnn_size, return_sequences=False))(x1)\n",
        "\n",
        "x2 = Bidirectional(CuDNNGRU(rnn_size, return_sequences=False))(x2)\n",
        "\n",
        "x = keras.layers.concatenate([x1, x2])\n",
        "\n",
        "\n",
        "x = Dense(dense_size)(x)\n",
        "\n",
        "x = Dropout(dropout)(x)\n",
        "\n",
        "x = Dense(dense_size_2)(x)\n",
        "\n",
        "x = Dropout(dropout)(x)\n",
        "\n",
        "predictions = Dense(1, activation='sigmoid')(x)\n",
        "\n",
        "\n",
        "model4 = Model(inputs=[event_input, url_input, panel_input, dwell_input, duration_input, length_input], outputs=predictions)\n",
        "\n",
        "opt = keras.optimizers.RMSprop(lr=learning_rate)\n",
        "\n",
        "model4.compile(optimizer=opt,\n",
        "              loss='binary_crossentropy',\n",
        "              metrics=['accuracy'])\n",
        "\n",
        "class_weight = {0: 1.,\n",
        "                1: 7.}\n",
        "\n",
        "\n",
        "for epoch in range(max_epochs):\n",
        "    valid_predict = []\n",
        "    valid_true = []\n",
        "    count = 0 \n",
        "    length = 0\n",
        "    np.random.shuffle(train_batches)\n",
        "    for batch in train_batches:\n",
        "        model4.fit([batch[0], batch[1], batch[2], batch[3], batch[4], batch[5]], batch[6], class_weight = class_weight, verbose=0)  # starts training \n",
        "    for batch in valid_batches:\n",
        "        predictors = model4.predict_on_batch([batch[0], batch[1], batch[2], batch[3], batch[4], batch[5]])\n",
        "\n",
        "        valid_predict.append(np.around(predictors))\n",
        "        valid_true.append(batch[6])\n",
        "\n",
        "    valid_predict = np.concatenate(valid_predict)    \n",
        "    valid_true = np.concatenate(valid_true)\n",
        "    roc = metrics.f1_score(valid_true, valid_predict, average=None)[1]\n",
        "    map = metrics.average_precision_score(valid_true, valid_predict)\n",
        "    previous_roc = roc\n",
        "    print(\"epoch: {0}  F1_1: {1:.3f}  ROC: {2:.3f}  MAP: {3: .3f}\".format(epoch+1, roc, metrics.roc_auc_score(valid_true, valid_predict), map))\n",
        "    \n"
      ],
      "execution_count": 0,
      "outputs": []
    },
    {
      "metadata": {
        "id": "HIIA6Z8v6WCP",
        "colab_type": "code",
        "colab": {}
      },
      "cell_type": "code",
      "source": [
        "\n",
        "max_epochs = 10 \n",
        "dense_size = 200 \n",
        "dense_size_2 = 100 \n",
        "\n",
        "rnn_size = 200 \n",
        "dropout = 0.3\n",
        "learning_rate = 0.001\n",
        "\n",
        "event_input = Input(shape=(None, 17))\n",
        "url_input = Input(shape=(None, 167))\n",
        "panel_input = Input(shape=(None, 1))\n",
        "dwell_input = Input(shape=(None, 1))\n",
        "duration_input = Input(shape=(1,))\n",
        "length_input = Input(shape=(1, ))\n",
        "\n",
        "x1 = Dense(14)(event_input)\n",
        "x2 = Dense(150)(url_input)\n",
        "\n",
        "x = keras.layers.concatenate([x1, x2, panel_input, dwell_input])\n",
        "x = Bidirectional(CuDNNGRU(rnn_size, return_sequences=True))(x)\n",
        "x = Bidirectional(CuDNNGRU(rnn_size, return_sequences=False))(x)\n",
        "\n",
        "x = keras.layers.concatenate([x, duration_input, length_input])\n",
        "\n",
        "x = Dense(dense_size)(x)\n",
        "\n",
        "x = Dropout(dropout)(x)\n",
        "\n",
        "x = Dense(dense_size_2)(x)\n",
        "\n",
        "x = Dropout(dropout)(x)\n",
        "\n",
        "predictions = Dense(1, activation='sigmoid')(x)\n",
        "\n",
        "\n",
        "model5 = Model(inputs=[event_input, url_input, panel_input, dwell_input, duration_input, length_input], outputs=predictions)\n",
        "\n",
        "opt = keras.optimizers.Adam(lr=learning_rate)\n",
        "\n",
        "model5.compile(optimizer=opt,\n",
        "              loss='binary_crossentropy',\n",
        "              metrics=['accuracy'])\n",
        "\n",
        "class_weight = {0: 1.,\n",
        "                1: 7.}\n",
        "\n",
        "\n",
        "\n",
        "for epoch in range(max_epochs):\n",
        "    valid_predict = []\n",
        "    valid_true = []\n",
        "    count = 0 \n",
        "    length = 0\n",
        "    np.random.shuffle(train_batches)\n",
        "    for batch in train_batches:\n",
        "        model5.fit([batch[0], batch[1], batch[2], batch[3], batch[4], batch[5]], batch[6], class_weight = class_weight, verbose=0)  # starts training \n",
        "    for batch in valid_batches:\n",
        "        predictors = model5.predict_on_batch([batch[0], batch[1], batch[2], batch[3], batch[4], batch[5]])\n",
        "\n",
        "        valid_predict.append(np.around(predictors))\n",
        "        valid_true.append(batch[6])\n",
        "\n",
        "    valid_predict = np.concatenate(valid_predict)    \n",
        "    valid_true = np.concatenate(valid_true)\n",
        "    roc = metrics.f1_score(valid_true, valid_predict, average=None)[1]\n",
        "    map = metrics.average_precision_score(valid_true, valid_predict)\n",
        "    previous_roc = roc\n",
        "    print(\"epoch: {0}  F1_1: {1:.3f}  ROC: {2:.3f}  MAP: {3: .3f}\".format(epoch+1, roc, metrics.roc_auc_score(valid_true, valid_predict), map))\n"
      ],
      "execution_count": 0,
      "outputs": []
    },
    {
      "metadata": {
        "id": "g_4unZVw8mOa",
        "colab_type": "code",
        "colab": {}
      },
      "cell_type": "code",
      "source": [
        "models = [model2, model3, model4, model5]\n",
        "for model in models:\n",
        "    test_predict = []  \n",
        "    test_true = []\n",
        "\n",
        "    for batch in test_batches:\n",
        "        predictors = model.predict_on_batch([batch[0], batch[1], batch[2], batch[3], batch[4], batch[5]])\n",
        "\n",
        "        test_predict.append(np.around(predictors))\n",
        "        test_true.append(batch[6])\n",
        "\n",
        "    test_predict = np.concatenate(test_predict)    \n",
        "    test_true = np.concatenate(test_true)\n",
        "    print(metrics.average_precision_score(test_true, test_predict))\n",
        "    print(metrics.classification_report(test_true, test_predict))\n",
        "    print(metrics.roc_auc_score(test_true, test_predict))"
      ],
      "execution_count": 0,
      "outputs": []
    },
    {
      "metadata": {
        "id": "Sli51bXN2JA7",
        "colab_type": "code",
        "colab": {
          "base_uri": "https://localhost:8080/",
          "height": 231
        },
        "outputId": "868aca0a-f7cd-435b-9996-27ecbf6c9083"
      },
      "cell_type": "code",
      "source": [
        "def process_column_values(values, dim1, dim2, dim3):\n",
        "    concat_values = np.concatenate(values)\n",
        "    reshaped_values = concat_values.reshape(dim1, dim2, dim3)\n",
        "    \n",
        "    return reshaped_values\n",
        "\n",
        "\n",
        "def process_column_values_50(values, dim1, dim2, dim3):\n",
        "    concat_values = np.concatenate(values)\n",
        "    reshaped_values = concat_values.reshape(dim1, dim2, dim3)\n",
        "    \n",
        "    if dim2 < 100:\n",
        "        fill = 100 - dim2\n",
        "        padding = np.zeros((dim1, fill, dim3))\n",
        "        final_values = np.concatenate((padding, reshaped_values), axis = 1)\n",
        "    else:\n",
        "        final_values = reshaped_values[:,-100:, :]\n",
        "\n",
        "    return final_values\n",
        "\n",
        "\n",
        "def get_domain_values(values, number, length):\n",
        "    domain_values = []\n",
        "    for i in range(1, number + 1):\n",
        "        domain_values.append(values.iloc[length * i - 1])\n",
        "        \n",
        "    return np.array(domain_values)\n",
        "\n",
        "\n",
        "batches = []\n",
        "\n",
        "for length in range(10, 1001):\n",
        "    \n",
        "    num_length = len(tasks[length])\n",
        "    \n",
        "    if num_length > 0:\n",
        "\n",
        "        dataset = inputs[pd.Series.isin(inputs[\"task_id\"], tasks[length])] \n",
        "\n",
        "\n",
        "        durations = get_domain_values(dataset.task_duration, num_length, length)\n",
        "        lengths = np.array([length] * num_length)\n",
        "        targets = get_domain_values(dataset.label, num_length, length)\n",
        "\n",
        "        \n",
        "        urls_50 = process_column_values_50(dataset.url_binarized.values, num_length, length, nb_urls)\n",
        "        events_50 = process_column_values_50(dataset.event_binarized.values, num_length, length, nb_events)\n",
        "        dwell_50 = process_column_values_50([dataset.dwell_time.values], num_length, length, 1)\n",
        "        panel_50 = process_column_values_50([dataset.panel_out.values], num_length, length, 1)\n",
        "        batches_50.append((events_50, urls_50, panel_50, dwell_50, durations, lengths, targets))\n",
        "        "
      ],
      "execution_count": 0,
      "outputs": [
        {
          "output_type": "error",
          "ename": "NameError",
          "evalue": "ignored",
          "traceback": [
            "\u001b[0;31m---------------------------------------------------------------------------\u001b[0m",
            "\u001b[0;31mNameError\u001b[0m                                 Traceback (most recent call last)",
            "\u001b[0;32m<ipython-input-1-41478660b208>\u001b[0m in \u001b[0;36m<module>\u001b[0;34m()\u001b[0m\n\u001b[1;32m     32\u001b[0m \u001b[0;32mfor\u001b[0m \u001b[0mlength\u001b[0m \u001b[0;32min\u001b[0m \u001b[0mrange\u001b[0m\u001b[0;34m(\u001b[0m\u001b[0;36m10\u001b[0m\u001b[0;34m,\u001b[0m \u001b[0;36m1001\u001b[0m\u001b[0;34m)\u001b[0m\u001b[0;34m:\u001b[0m\u001b[0;34m\u001b[0m\u001b[0m\n\u001b[1;32m     33\u001b[0m \u001b[0;34m\u001b[0m\u001b[0m\n\u001b[0;32m---> 34\u001b[0;31m     \u001b[0mnum_length\u001b[0m \u001b[0;34m=\u001b[0m \u001b[0mlen\u001b[0m\u001b[0;34m(\u001b[0m\u001b[0mtasks\u001b[0m\u001b[0;34m[\u001b[0m\u001b[0mlength\u001b[0m\u001b[0;34m]\u001b[0m\u001b[0;34m)\u001b[0m\u001b[0;34m\u001b[0m\u001b[0m\n\u001b[0m\u001b[1;32m     35\u001b[0m \u001b[0;34m\u001b[0m\u001b[0m\n\u001b[1;32m     36\u001b[0m     \u001b[0;32mif\u001b[0m \u001b[0mnum_length\u001b[0m \u001b[0;34m>\u001b[0m \u001b[0;36m0\u001b[0m\u001b[0;34m:\u001b[0m\u001b[0;34m\u001b[0m\u001b[0m\n",
            "\u001b[0;31mNameError\u001b[0m: name 'tasks' is not defined"
          ]
        }
      ]
    },
    {
      "metadata": {
        "id": "1akryVzEoW1F",
        "colab_type": "code",
        "colab": {}
      },
      "cell_type": "code",
      "source": [
        "np.random.shuffle(batches_50)\n",
        "train_batches = batches_50[:int(0.8*len(batches))]\n",
        "valid_batches = batches_50[int(0.8*len(batches)):int(0.9*len(batches))]\n",
        "test_batches = batches_50[int(0.8*len(batches)):]"
      ],
      "execution_count": 0,
      "outputs": []
    },
    {
      "metadata": {
        "id": "mAbLhkNyoZ-C",
        "colab_type": "code",
        "colab": {}
      },
      "cell_type": "code",
      "source": [
        "\n",
        "max_epochs = 10 \n",
        "dense_size = 150 \n",
        "rnn_size = 200 \n",
        "dropout = 0.3\n",
        "learning_rate = 0.001\n",
        "\n",
        "event_input = Input(shape=(None, 17))\n",
        "url_input = Input(shape=(None, 167))\n",
        "panel_input = Input(shape=(None, 1))\n",
        "dwell_input = Input(shape=(None, 1))\n",
        "duration_input = Input(shape=(1,))\n",
        "length_input = Input(shape=(1, ))\n",
        "\n",
        "x1 = Dense(14)(event_input)\n",
        "x2 = Dense(150)(url_input)\n",
        "\n",
        "x = keras.layers.concatenate([x1, x2, panel_input, dwell_input])\n",
        "x = Bidirectional(CuDNNGRU(rnn_size, return_sequences=True))(x)\n",
        "x = Bidirectional(CuDNNGRU(rnn_size, return_sequences=False))(x)\n",
        "\n",
        "# x = keras.layers.concatenate([x, duration_input, length_input])\n",
        "\n",
        "x = Dense(dense_size)(x)\n",
        "\n",
        "x = Dropout(dropout)(x)\n",
        "\n",
        "predictions = Dense(1, activation='sigmoid')(x)\n",
        "\n",
        "\n",
        "model6 = Model(inputs=[event_input, url_input, panel_input, dwell_input, duration_input, length_input], outputs=predictions)\n",
        "\n",
        "opt = keras.optimizers.RMSprop(lr=learning_rate)\n",
        "\n",
        "model6.compile(optimizer=opt,\n",
        "              loss='binary_crossentropy',\n",
        "              metrics=['accuracy'])\n",
        "\n",
        "class_weight = {0: 1.,\n",
        "                1: 7.}\n",
        "\n",
        "\n",
        "\n",
        "for epoch in range(max_epochs):\n",
        "    valid_predict = []\n",
        "    valid_true = []\n",
        "    count = 0 \n",
        "    length = 0\n",
        "    np.random.shuffle(train_batches)\n",
        "    for batch in train_batches:\n",
        "        model6.fit([batch[0], batch[1], batch[2], batch[3], batch[4], batch[5]], batch[6], class_weight = class_weight, verbose=0)  # starts training \n",
        "    for batch in valid_batches:\n",
        "        predictors = model6.predict_on_batch([batch[0], batch[1], batch[2], batch[3], batch[4], batch[5]])\n",
        "\n",
        "        valid_predict.append(np.around(predictors))\n",
        "        valid_true.append(batch[6])\n",
        "\n",
        "    valid_predict = np.concatenate(valid_predict)    \n",
        "    valid_true = np.concatenate(valid_true)\n",
        "    roc = metrics.f1_score(valid_true, valid_predict, average=None)[1]\n",
        "    previous_roc = roc\n",
        "    print(\"epoch: {0}  F1_1: {1:.3f}  ROC: {2:.3f}\".format(epoch+1, roc, metrics.roc_auc_score(valid_true, valid_predict)))\n",
        "\n",
        "    model4.save('my_model.h5')  # creates a HDF5 file 'my_model.h5'"
      ],
      "execution_count": 0,
      "outputs": []
    },
    {
      "metadata": {
        "id": "wMO0bLekbZhK",
        "colab_type": "text"
      },
      "cell_type": "markdown",
      "source": [
        "###Run GRU vs LSTM\n",
        "\n",
        "This can be done by running the following cells with CuDNNGRU or CuDNNLSTM in the RNN. The amount of data exposed to the model can be changed in the first cell after this one."
      ]
    },
    {
      "metadata": {
        "id": "Mk3LCBJXbYfq",
        "colab_type": "code",
        "colab": {}
      },
      "cell_type": "code",
      "source": [
        "np.random.shuffle(batches)\n",
        "train_batches = batches[:int(0.8*len(batches))]#0.3, 0.4, 0.5, 0.6, 0.7, 0.8\n",
        "valid_batches = batches[int(0.8*len(batches)):int(0.9*len(batches))]\n",
        "test_batches = batches[int(0.8*len(batches)):]"
      ],
      "execution_count": 0,
      "outputs": []
    },
    {
      "metadata": {
        "id": "wbcuq4t5ocW3",
        "colab_type": "code",
        "colab": {}
      },
      "cell_type": "code",
      "source": [
        "\n",
        "max_epochs = 10 \n",
        "dense_size = 150 \n",
        "rnn_size = 200 \n",
        "dropout = 0.3\n",
        "learning_rate = 0.001\n",
        "\n",
        "event_input = Input(shape=(None, 17))\n",
        "url_input = Input(shape=(None, 167))\n",
        "panel_input = Input(shape=(None, 1))\n",
        "dwell_input = Input(shape=(None, 1))\n",
        "duration_input = Input(shape=(1,))\n",
        "length_input = Input(shape=(1, ))\n",
        "\n",
        "x1 = Dense(14)(event_input)\n",
        "x2 = Dense(150)(url_input)\n",
        "\n",
        "x = keras.layers.concatenate([x1, x2, panel_input, dwell_input])\n",
        "x = Bidirectional(CuDNNGRU(rnn_size, return_sequences=True))(x) # CuDNNLSTM\n",
        "x = Bidirectional(CuDNNGRU(rnn_size, return_sequences=False))(x) #CuDNNLSTM\n",
        "\n",
        "# x = keras.layers.concatenate([x, duration_input, length_input])\n",
        "\n",
        "x = Dense(dense_size)(x)\n",
        "\n",
        "x = Dropout(dropout)(x)\n",
        "\n",
        "predictions = Dense(1, activation='sigmoid')(x)\n",
        "\n",
        "\n",
        "model6 = Model(inputs=[event_input, url_input, panel_input, dwell_input, duration_input, length_input], outputs=predictions)\n",
        "\n",
        "opt = keras.optimizers.RMSprop(lr=learning_rate)\n",
        "\n",
        "model6.compile(optimizer=opt,\n",
        "              loss='binary_crossentropy',\n",
        "              metrics=['accuracy'])\n",
        "\n",
        "class_weight = {0: 1.,\n",
        "                1: 7.}\n",
        "\n",
        "\n",
        "\n",
        "for epoch in range(max_epochs):\n",
        "    valid_predict = []\n",
        "    valid_true = []\n",
        "    count = 0 \n",
        "    length = 0\n",
        "    np.random.shuffle(train_batches)\n",
        "    for batch in train_batches:\n",
        "        model6.fit([batch[0], batch[1], batch[2], batch[3], batch[4], batch[5]], batch[6], class_weight = class_weight, verbose=0)  # starts training \n",
        "    for batch in valid_batches:\n",
        "        predictors = model6.predict_on_batch([batch[0], batch[1], batch[2], batch[3], batch[4], batch[5]])\n",
        "\n",
        "        valid_predict.append(np.around(predictors))\n",
        "        valid_true.append(batch[6])\n",
        "\n",
        "    valid_predict = np.concatenate(valid_predict)    \n",
        "    valid_true = np.concatenate(valid_true)\n",
        "    roc = metrics.f1_score(valid_true, valid_predict, average=None)[1]\n",
        "    previous_roc = roc\n",
        "    print(\"epoch: {0}  F1_1: {1:.3f}  ROC: {2:.3f}\".format(epoch+1, roc, metrics.roc_auc_score(valid_true, valid_predict)))\n",
        "\n",
        "    model4.save('my_model.h5')  # creates a HDF5 file 'my_model.h5'"
      ],
      "execution_count": 0,
      "outputs": []
    }
  ]
}