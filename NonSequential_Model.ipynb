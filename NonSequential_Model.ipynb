{
 "cells": [
  {
   "cell_type": "code",
   "execution_count": null,
   "metadata": {
    "ExecuteTime": {
     "end_time": "2018-08-08T16:29:07.645518Z",
     "start_time": "2018-08-08T16:29:05.491174Z"
    }
   },
   "outputs": [],
   "source": [
    "from keras.layers import Dense, Dropout, LSTM, Embedding\n",
    "from keras.preprocessing.sequence import pad_sequences\n",
    "from keras.models import Sequential\n",
    "import pandas as pd\n",
    "import numpy as np\n",
    "from ast import literal_eval\n",
    "import logging\n",
    "import re\n",
    "from difflib import SequenceMatcher\n",
    "from typing import Dict\n",
    "from typing import Optional\n",
    "from typing import Union\n",
    "from urllib import parse as parser\n",
    "from urllib.request import urlopen\n",
    "import keras\n",
    "import time\n",
    "from datetime import datetime\n",
    "import glob\n",
    "import operator\n",
    "import lightgbm\n",
    "import matplotlib.pyplot as plt\n",
    "from sklearn import linear_model, metrics\n",
    "import shap\n",
    "from collections import defaultdict\n",
    "shap.initjs()\n"
   ]
  },
  {
   "cell_type": "code",
   "execution_count": 5,
   "metadata": {
    "ExecuteTime": {
     "end_time": "2018-08-08T16:29:25.525496Z",
     "start_time": "2018-08-08T16:29:07.656819Z"
    }
   },
   "outputs": [],
   "source": [
    "path = r'removed' # use your path\n",
    "allFiles = glob.glob(path + \"*.csv\")\n",
    "frame = pd.DataFrame()\n",
    "list_ = []\n",
    "for file_ in allFiles:\n",
    "    df = pd.read_csv(file_, header = 0) \n",
    "    list_.append(df)\n",
    "\n",
    "frame = pd.concat(list_)"
   ]
  },
  {
   "cell_type": "code",
   "execution_count": null,
   "metadata": {
    "ExecuteTime": {
     "end_time": "2018-08-08T16:30:58.017067Z",
     "start_time": "2018-08-08T16:30:57.999384Z"
    }
   },
   "outputs": [],
   "source": []
  },
  {
   "cell_type": "code",
   "execution_count": 52,
   "metadata": {
    "ExecuteTime": {
     "end_time": "2018-08-08T16:32:43.961145Z",
     "start_time": "2018-08-08T16:32:43.114884Z"
    }
   },
   "outputs": [],
   "source": [
    "inputs = frame[[\"user_id\",\n",
    "                                \"event_type\",  \n",
    "                                \"timestamp\", \n",
    "                                \"properties.extensionIsOpen\",\n",
    "                                \"properties.url\", \n",
    "                                \"properties.sessionID\"\n",
    "                               ]]# dwell time, task time, task_clicks,  task_id, label"
   ]
  },
  {
   "cell_type": "code",
   "execution_count": null,
   "metadata": {
    "ExecuteTime": {
     "end_time": "2018-08-08T16:32:38.066567Z",
     "start_time": "2018-08-08T16:29:06.417Z"
    }
   },
   "outputs": [],
   "source": []
  },
  {
   "cell_type": "code",
   "execution_count": 53,
   "metadata": {
    "ExecuteTime": {
     "end_time": "2018-08-08T16:32:38.068381Z",
     "start_time": "2018-08-08T16:29:06.612Z"
    }
   },
   "outputs": [],
   "source": [
    "inputs = inputs.rename(index=str, columns={\"user_id\": \"distinct_id\", \n",
    "                              \"timestamp\": \"event_time\", \n",
    "                              \"properties.extensionIsOpen\": \"panel_out\", \n",
    "                              \"properties.url\": \"original\", \n",
    "                              \"properties.sessionID\": \"session_id\"})"
   ]
  },
  {
   "cell_type": "code",
   "execution_count": 54,
   "metadata": {
    "ExecuteTime": {
     "end_time": "2018-08-08T16:32:38.070091Z",
     "start_time": "2018-08-08T16:29:07.327Z"
    }
   },
   "outputs": [],
   "source": [
    "def normalize_url(url: str):\n",
    "    result = None\n",
    "    try:\n",
    "        parsed = parser.urlparse(url)\n",
    "    except Exception as e:\n",
    "        _logger.warning(\"Error normalizing '%s': %s\" % (url, str(e)))\n",
    "    else:\n",
    "        protocol = 'http' if parsed.scheme == 'https' else parsed.scheme\n",
    "        domain = parsed.netloc[4:] if parsed.netloc.lower().startswith('www.') else parsed.netloc\n",
    "        normal = '%s://%s%s%s' % (protocol, domain, parsed.path, '' if parsed.path.endswith('/') else '/')\n",
    "        result = {\n",
    "            'original': url,\n",
    "            'normal': normal,\n",
    "            'protocol': parsed.scheme,\n",
    "            'domain': domain,\n",
    "            'path': parsed.path,\n",
    "            'query': dict(parser.parse_qsl(parsed.query)),\n",
    "            'params': parsed.params,\n",
    "            'fragment': parsed.fragment,\n",
    "        }\n",
    "    finally:\n",
    "        return result\n"
   ]
  },
  {
   "cell_type": "code",
   "execution_count": null,
   "metadata": {
    "ExecuteTime": {
     "end_time": "2018-08-08T16:32:38.071928Z",
     "start_time": "2018-08-08T16:29:07.755Z"
    }
   },
   "outputs": [],
   "source": [
    "pattern = '%Y-%m-%d %H:%M:%S'\n",
    "inputs.event_time = inputs.event_time.apply(lambda x: int(time.mktime(time.strptime(x, pattern))))\n",
    "users = dict(zip(inputs.distinct_id.unique(), (i for i in range(len(inputs.distinct_id.unique())))))\n",
    "inputs[\"distinct_id\"] = inputs[\"distinct_id\"].map(users)\n",
    "lists = inputs.values.tolist()"
   ]
  },
  {
   "cell_type": "code",
   "execution_count": null,
   "metadata": {
    "ExecuteTime": {
     "end_time": "2018-08-08T16:32:38.073989Z",
     "start_time": "2018-08-08T16:29:08.289Z"
    }
   },
   "outputs": [],
   "source": [
    "lists = sorted(lists, key=operator.itemgetter(0,2), reverse=False)"
   ]
  },
  {
   "cell_type": "code",
   "execution_count": null,
   "metadata": {
    "ExecuteTime": {
     "end_time": "2018-08-08T16:32:38.075795Z",
     "start_time": "2018-08-08T16:29:09.110Z"
    }
   },
   "outputs": [],
   "source": [
    "last_activity_time = lists[0][2]\n",
    "task_id = 1\n",
    "task_time_start = lists[0][2]\n",
    "total_durations = []\n",
    "for idx, lst in enumerate(lists):\n",
    "    distinct_id, event, timestamp, panel, url, sess = lst\n",
    "    time_diff = timestamp - last_activity_time\n",
    "    if np.abs(time_diff) > 900:\n",
    "        task_id +=1\n",
    "        task_time_start = timestamp\n",
    "        total_durations.append(lists[idx-1])\n",
    "    task_duration = timestamp - task_time_start\n",
    "\n",
    "    lists[idx].append(task_id)\n",
    "    lists[idx].append(task_duration)\n",
    "    last_activity_time = timestamp\n"
   ]
  },
  {
   "cell_type": "code",
   "execution_count": null,
   "metadata": {
    "ExecuteTime": {
     "end_time": "2018-08-08T16:32:38.077668Z",
     "start_time": "2018-08-08T16:29:12.802Z"
    }
   },
   "outputs": [],
   "source": [
    "inputs = pd.DataFrame(lists, columns = [\"distinct_id\", \"event_type\", \"event_time\", \"panel_out\", \"original\", \"session_id\", 'task_id', \"task_duration\"])"
   ]
  },
  {
   "cell_type": "code",
   "execution_count": 42,
   "metadata": {
    "ExecuteTime": {
     "end_time": "2018-08-03T13:22:27.740236Z",
     "start_time": "2018-08-03T13:22:20.090190Z"
    }
   },
   "outputs": [],
   "source": [
    "inputs.to_csv(\"data.csv\")"
   ]
  },
  {
   "cell_type": "code",
   "execution_count": null,
   "metadata": {},
   "outputs": [],
   "source": []
  },
  {
   "cell_type": "code",
   "execution_count": null,
   "metadata": {},
   "outputs": [],
   "source": []
  },
  {
   "cell_type": "code",
   "execution_count": 32,
   "metadata": {
    "ExecuteTime": {
     "end_time": "2018-08-03T13:12:56.858178Z",
     "start_time": "2018-08-03T13:12:56.760746Z"
    }
   },
   "outputs": [],
   "source": [
    "inputs = inputs[[\"event_type\", \"event_time\", \"panel_out\", \"original\", 'task_id', \"task_duration\"]] # dwell time, task time, task_clicks,  task_id, label"
   ]
  },
  {
   "cell_type": "code",
   "execution_count": 33,
   "metadata": {
    "ExecuteTime": {
     "end_time": "2018-08-03T13:13:48.755924Z",
     "start_time": "2018-08-03T13:13:48.637112Z"
    }
   },
   "outputs": [],
   "source": [
    "set_of_positive_tasks = set(inputs.loc[inputs['event_type'] == \"Extension - Clicked Contact Button\"][\"task_id\"])"
   ]
  },
  {
   "cell_type": "code",
   "execution_count": 34,
   "metadata": {
    "ExecuteTime": {
     "end_time": "2018-08-03T13:14:42.503563Z",
     "start_time": "2018-08-03T13:14:41.698787Z"
    }
   },
   "outputs": [],
   "source": [
    "inputs[\"label\"] = pd.Series.isin(inputs[\"task_id\"], set_of_positive_tasks).astype(int)"
   ]
  },
  {
   "cell_type": "code",
   "execution_count": 35,
   "metadata": {
    "ExecuteTime": {
     "end_time": "2018-08-03T13:16:05.012439Z",
     "start_time": "2018-08-03T13:15:36.201307Z"
    }
   },
   "outputs": [],
   "source": [
    "inputs[\"original\"] = inputs[\"original\"].fillna(\"\")\n",
    "inputs[\"original\"] = inputs[\"original\"].apply(lambda x: normalize_url(x)[\"domain\"])"
   ]
  },
  {
   "cell_type": "code",
   "execution_count": 36,
   "metadata": {
    "ExecuteTime": {
     "end_time": "2018-08-03T13:16:56.044835Z",
     "start_time": "2018-08-03T13:16:55.354129Z"
    }
   },
   "outputs": [],
   "source": [
    "urls = dict(inputs.original.value_counts(0))"
   ]
  },
  {
   "cell_type": "code",
   "execution_count": 37,
   "metadata": {
    "ExecuteTime": {
     "end_time": "2018-08-03T13:17:49.479147Z",
     "start_time": "2018-08-03T13:17:49.467283Z"
    }
   },
   "outputs": [],
   "source": [
    "filtered_urls = {k:v for (k,v) in urls.items() if v > 1000 and k != \"\"} "
   ]
  },
  {
   "cell_type": "code",
   "execution_count": 38,
   "metadata": {
    "ExecuteTime": {
     "end_time": "2018-08-03T13:18:39.587449Z",
     "start_time": "2018-08-03T13:18:39.583442Z"
    }
   },
   "outputs": [],
   "source": [
    "filtered_urls = set(filtered_urls)"
   ]
  },
  {
   "cell_type": "code",
   "execution_count": 39,
   "metadata": {
    "ExecuteTime": {
     "end_time": "2018-08-03T13:19:39.175101Z",
     "start_time": "2018-08-03T13:19:39.108097Z"
    }
   },
   "outputs": [],
   "source": [
    "inputs[\"url\"] = pd.Series.isin(inputs[\"original\"], filtered_urls)"
   ]
  },
  {
   "cell_type": "code",
   "execution_count": 40,
   "metadata": {
    "ExecuteTime": {
     "end_time": "2018-08-03T13:20:33.298785Z",
     "start_time": "2018-08-03T13:20:32.976379Z"
    }
   },
   "outputs": [],
   "source": [
    "inputs[\"original\"] = inputs.loc[inputs['url'] == True][\"original\"]"
   ]
  },
  {
   "cell_type": "code",
   "execution_count": 41,
   "metadata": {
    "ExecuteTime": {
     "end_time": "2018-08-03T13:21:27.722089Z",
     "start_time": "2018-08-03T13:21:26.869254Z"
    }
   },
   "outputs": [],
   "source": [
    "\n",
    "inputs[\"panel_out\"] = inputs.panel_out.fillna(False)\n",
    "inputs.panel_out = inputs.panel_out.astype(int)\n",
    "\n",
    "event_type_dict = dict(zip(inputs.event_type.unique(), (i for i in range(len(inputs.event_type.unique())))))\n",
    "inputs.event_type = inputs.event_type.map(event_type_dict)\n",
    "\n",
    "original_dict = dict(zip(inputs.original.unique(), (i for i in range(len(inputs.original.unique())))))\n",
    "inputs.original = inputs.original.map(original_dict)\n"
   ]
  },
  {
   "cell_type": "code",
   "execution_count": 44,
   "metadata": {
    "ExecuteTime": {
     "end_time": "2018-08-03T13:59:00.605885Z",
     "start_time": "2018-08-03T13:59:00.461133Z"
    }
   },
   "outputs": [
    {
     "name": "stdout",
     "output_type": "stream",
     "text": [
      "<class 'pandas.core.frame.DataFrame'>\n",
      "RangeIndex: 1940734 entries, 0 to 1940733\n",
      "Data columns (total 8 columns):\n",
      "event_type       int64\n",
      "event_time       int64\n",
      "panel_out        int64\n",
      "original         int64\n",
      "task_id          int64\n",
      "task_duration    int64\n",
      "label            int64\n",
      "url              bool\n",
      "dtypes: bool(1), int64(7)\n",
      "memory usage: 105.5 MB\n"
     ]
    }
   ],
   "source": [
    "inputs.info()"
   ]
  },
  {
   "cell_type": "code",
   "execution_count": 45,
   "metadata": {
    "ExecuteTime": {
     "end_time": "2018-08-03T15:02:52.104930Z",
     "start_time": "2018-08-03T15:02:45.766262Z"
    }
   },
   "outputs": [],
   "source": [
    "inputs[\"event_binarized\"] = [np.zeros(16) for i in range(len(inputs[\"event_type\"]))]\n",
    "inputs[\"url_binarized\"] = [np.zeros(len(filtered_urls)) for i in range(len(inputs[\"original\"]))]"
   ]
  },
  {
   "cell_type": "code",
   "execution_count": 46,
   "metadata": {
    "ExecuteTime": {
     "end_time": "2018-08-03T15:03:44.586021Z",
     "start_time": "2018-08-03T15:03:44.234282Z"
    }
   },
   "outputs": [],
   "source": [
    "inputs = inputs[inputs[\"event_type\"] != 12]"
   ]
  },
  {
   "cell_type": "code",
   "execution_count": null,
   "metadata": {
    "ExecuteTime": {
     "start_time": "2018-08-03T15:02:47.437Z"
    }
   },
   "outputs": [],
   "source": [
    "lists = inputs.values.tolist()"
   ]
  },
  {
   "cell_type": "code",
   "execution_count": null,
   "metadata": {
    "ExecuteTime": {
     "start_time": "2018-08-03T15:02:47.633Z"
    }
   },
   "outputs": [],
   "source": [
    "for i in lists:\n",
    "    i[8] = np.insert(i[8], i[0], 1)\n",
    "    i[9] = np.insert(i[9], i[3], 1)\n"
   ]
  },
  {
   "cell_type": "code",
   "execution_count": null,
   "metadata": {
    "ExecuteTime": {
     "start_time": "2018-08-03T15:02:47.862Z"
    }
   },
   "outputs": [],
   "source": [
    "inputs = pd.DataFrame(lists, columns = [\"event_type\", \"event_time\", \"panel_out\", \"original\", 'task_id', \"task_duration\", \"label\", \"url\", \"event_binarized\", \"url_binarized\"])"
   ]
  },
  {
   "cell_type": "code",
   "execution_count": null,
   "metadata": {
    "ExecuteTime": {
     "start_time": "2018-08-03T15:02:48.107Z"
    }
   },
   "outputs": [],
   "source": [
    "inputs = inputs[['task_id', \"task_duration\",\"panel_out\", \"event_binarized\", \"url_binarized\", \"label\"]]"
   ]
  },
  {
   "cell_type": "code",
   "execution_count": null,
   "metadata": {
    "ExecuteTime": {
     "start_time": "2018-08-03T15:02:50.490Z"
    }
   },
   "outputs": [],
   "source": [
    "inputs['change'] = inputs['task_id'].diff()"
   ]
  },
  {
   "cell_type": "code",
   "execution_count": null,
   "metadata": {
    "ExecuteTime": {
     "start_time": "2018-08-03T15:02:52.238Z"
    }
   },
   "outputs": [],
   "source": [
    "index_before = 0\n",
    "lists = []\n",
    "for i, index_ in enumerate(inputs.loc[inputs['change'] == 1.0].index):\n",
    "    panel = inputs.loc[index_before:index_][['panel_out']].sum()/(index_ - index_before)\n",
    "    data = inputs.loc[index_before:index_][['event_binarized', 'url_binarized']].sum()\n",
    "    label = inputs.loc[index_-1][['label']]\n",
    "    task_dur = inputs.loc[index_-1][['task_duration']]\n",
    "    lists.append((data.values, panel.values, task_dur.values, label.values))\n",
    "    index_before = index_\n"
   ]
  },
  {
   "cell_type": "code",
   "execution_count": null,
   "metadata": {
    "ExecuteTime": {
     "start_time": "2018-08-03T15:02:52.303Z"
    }
   },
   "outputs": [],
   "source": [
    "df = pd.DataFrame(lists, columns=[\"binarized\", \"panel\", \"task_duration\", \"label\"])"
   ]
  },
  {
   "cell_type": "code",
   "execution_count": 36,
   "metadata": {
    "ExecuteTime": {
     "end_time": "2018-07-20T15:25:17.790387Z",
     "start_time": "2018-07-20T15:25:17.663815Z"
    }
   },
   "outputs": [],
   "source": [
    "df[\"concat\"] = [np.concatenate((df[\"binarized\"][i][0], df[\"binarized\"][i][1]), axis=0) for i in range(len(df[\"binarized\"]))]"
   ]
  },
  {
   "cell_type": "code",
   "execution_count": 37,
   "metadata": {
    "ExecuteTime": {
     "end_time": "2018-07-20T15:25:17.966245Z",
     "start_time": "2018-07-20T15:25:17.792287Z"
    }
   },
   "outputs": [],
   "source": [
    "df[\"binarized\"] = [np.concatenate((df[\"concat\"][i], df[\"panel\"][i], df[\"task_duration\"][i])) for i in range(len(df[\"binarized\"]))]"
   ]
  },
  {
   "cell_type": "code",
   "execution_count": 38,
   "metadata": {
    "ExecuteTime": {
     "end_time": "2018-07-20T15:25:17.975161Z",
     "start_time": "2018-07-20T15:25:17.967621Z"
    }
   },
   "outputs": [],
   "source": [
    "df = df[[\"binarized\", \"label\"]]"
   ]
  },
  {
   "cell_type": "code",
   "execution_count": 39,
   "metadata": {
    "ExecuteTime": {
     "end_time": "2018-07-20T15:25:22.399368Z",
     "start_time": "2018-07-20T15:25:22.389602Z"
    }
   },
   "outputs": [],
   "source": [
    "train = df[:int(0.8*(len(df)))]\n",
    "valid = df[int(0.8*(len(df))):int(0.9*(len(df)))]\n",
    "test = df[int(0.9*(len(df))):]"
   ]
  },
  {
   "cell_type": "code",
   "execution_count": 40,
   "metadata": {
    "ExecuteTime": {
     "end_time": "2018-07-20T15:25:23.352624Z",
     "start_time": "2018-07-20T15:25:23.334597Z"
    }
   },
   "outputs": [],
   "source": [
    "train_data = np.array(train.binarized.tolist())\n",
    "train_labels = np.array(train.label.tolist())\n",
    "train_labels=train_labels.astype('int')"
   ]
  },
  {
   "cell_type": "code",
   "execution_count": 42,
   "metadata": {
    "ExecuteTime": {
     "end_time": "2018-07-20T15:25:24.716969Z",
     "start_time": "2018-07-20T15:25:24.707344Z"
    }
   },
   "outputs": [
    {
     "data": {
      "text/plain": [
       "(3013, 147)"
      ]
     },
     "execution_count": 42,
     "metadata": {},
     "output_type": "execute_result"
    }
   ],
   "source": [
    "train_data.shape"
   ]
  },
  {
   "cell_type": "code",
   "execution_count": 43,
   "metadata": {
    "ExecuteTime": {
     "end_time": "2018-07-20T15:25:24.967464Z",
     "start_time": "2018-07-20T15:25:24.957364Z"
    }
   },
   "outputs": [],
   "source": [
    "test_data = np.array(test.binarized.tolist())\n",
    "test_labels = np.array(test.label.tolist())\n",
    "test_labels=test_labels.astype('int')"
   ]
  },
  {
   "cell_type": "code",
   "execution_count": 44,
   "metadata": {
    "ExecuteTime": {
     "end_time": "2018-07-20T15:25:25.137857Z",
     "start_time": "2018-07-20T15:25:25.133304Z"
    }
   },
   "outputs": [],
   "source": [
    "logreg = linear_model.LogisticRegression(C=10)"
   ]
  },
  {
   "cell_type": "code",
   "execution_count": 45,
   "metadata": {
    "ExecuteTime": {
     "end_time": "2018-07-20T15:25:25.500588Z",
     "start_time": "2018-07-20T15:25:25.311068Z"
    }
   },
   "outputs": [
    {
     "data": {
      "text/plain": [
       "LogisticRegression(C=10, class_weight=None, dual=False, fit_intercept=True,\n",
       "          intercept_scaling=1, max_iter=100, multi_class='ovr', n_jobs=1,\n",
       "          penalty='l2', random_state=None, solver='liblinear', tol=0.0001,\n",
       "          verbose=0, warm_start=False)"
      ]
     },
     "execution_count": 45,
     "metadata": {},
     "output_type": "execute_result"
    }
   ],
   "source": [
    "logreg.fit(train_data, train_labels.ravel())"
   ]
  },
  {
   "cell_type": "code",
   "execution_count": 46,
   "metadata": {
    "ExecuteTime": {
     "end_time": "2018-07-20T15:25:25.513655Z",
     "start_time": "2018-07-20T15:25:25.502988Z"
    }
   },
   "outputs": [],
   "source": [
    "y_pred = logreg.predict(test_data)"
   ]
  },
  {
   "cell_type": "code",
   "execution_count": 1,
   "metadata": {
    "ExecuteTime": {
     "end_time": "2018-09-15T22:37:56.562446Z",
     "start_time": "2018-09-15T22:37:56.521983Z"
    }
   },
   "outputs": [
    {
     "ename": "NameError",
     "evalue": "name 'metrics' is not defined",
     "output_type": "error",
     "traceback": [
      "\u001b[0;31m---------------------------------------------------------------------------\u001b[0m",
      "\u001b[0;31mNameError\u001b[0m                                 Traceback (most recent call last)",
      "\u001b[0;32m<ipython-input-1-9838e08a643a>\u001b[0m in \u001b[0;36m<module>\u001b[0;34m()\u001b[0m\n\u001b[0;32m----> 1\u001b[0;31m \u001b[0mmetrics\u001b[0m\u001b[0;34m.\u001b[0m\u001b[0mroc_auc_score\u001b[0m\u001b[0;34m(\u001b[0m\u001b[0mtest_labels\u001b[0m\u001b[0;34m,\u001b[0m \u001b[0my_pred\u001b[0m\u001b[0;34m)\u001b[0m\u001b[0;34m\u001b[0m\u001b[0m\n\u001b[0m\u001b[1;32m      2\u001b[0m \u001b[0mmetrics\u001b[0m\u001b[0;34m.\u001b[0m\u001b[0mroc_auc_score\u001b[0m\u001b[0;34m(\u001b[0m\u001b[0mtest_labels\u001b[0m\u001b[0;34m,\u001b[0m \u001b[0my_pred\u001b[0m\u001b[0;34m)\u001b[0m\u001b[0;34m\u001b[0m\u001b[0m\n",
      "\u001b[0;31mNameError\u001b[0m: name 'metrics' is not defined"
     ]
    }
   ],
   "source": [
    "metrics.average_precision_score(test_labels, y_pred)\n",
    "metrics.roc_auc_score(test_labels, y_pred)\n",
    "metrics.f1_score(test_labels, y_pred)\n"
   ]
  },
  {
   "cell_type": "code",
   "execution_count": 49,
   "metadata": {
    "ExecuteTime": {
     "end_time": "2018-07-20T15:25:27.775408Z",
     "start_time": "2018-07-20T15:25:27.566291Z"
    }
   },
   "outputs": [],
   "source": [
    "gbm = lightgbm.LGBMClassifier(max_depth=5, \n",
    "                              n_estimators=128, \n",
    "                              learning_rate=0.2, \n",
    "                              colsample_bytree = 0.5, \n",
    "                              num_leaves = 5).fit(train_data, train_labels.ravel())\n",
    "\n",
    "features = gbm.feature_importances_\n",
    "y_gbm_pred = gbm.predict(test_data)"
   ]
  },
  {
   "cell_type": "code",
   "execution_count": null,
   "metadata": {
    "ExecuteTime": {
     "end_time": "2018-07-20T15:25:29.516914Z",
     "start_time": "2018-07-20T15:25:29.499597Z"
    }
   },
   "outputs": [],
   "source": [
    "metrics.average_precision_score(test_labels, y_gbm_pred)\n",
    "metrics.roc_auc_score(test_labels, y_gbm_pred)\n",
    "metrics.f1_score(test_labels, y_gbm_pred)"
   ]
  },
  {
   "cell_type": "code",
   "execution_count": 56,
   "metadata": {
    "ExecuteTime": {
     "end_time": "2018-07-20T15:26:12.553058Z",
     "start_time": "2018-07-20T15:26:11.409429Z"
    }
   },
   "outputs": [
    {
     "data": {
      "image/png": "[encoded data removed]",
      "text/plain": [
       "<matplotlib.figure.Figure at 0x7f129c706400>"
      ]
     },
     "metadata": {},
     "output_type": "display_data"
    }
   ],
   "source": [
    "explainer = shap.TreeExplainer(gbm)\n",
    "shap_values = explainer.shap_values(train_data)\n",
    "\n",
    "# visualize the first prediction's explanation\n",
    "shap.summary_plot(shap_values, train_data, list(event_type_dict.values()))\n",
    "\n"
   ]
  }
 ],
 "metadata": {
  "kernelspec": {
   "display_name": "Python 3",
   "language": "python",
   "name": "python3"
  },
  "language_info": {
   "codemirror_mode": {
    "name": "ipython",
    "version": 3
   },
   "file_extension": ".py",
   "mimetype": "text/x-python",
   "name": "python",
   "nbconvert_exporter": "python",
   "pygments_lexer": "ipython3",
   "version": "3.6.5"
  },
  "varInspector": {
   "cols": {
    "lenName": 16,
    "lenType": 16,
    "lenVar": 40
   },
   "kernels_config": {
    "python": {
     "delete_cmd_postfix": "",
     "delete_cmd_prefix": "del ",
     "library": "var_list.py",
     "varRefreshCmd": "print(var_dic_list())"
    },
    "r": {
     "delete_cmd_postfix": ") ",
     "delete_cmd_prefix": "rm(",
     "library": "var_list.r",
     "varRefreshCmd": "cat(var_dic_list()) "
    }
   },
   "types_to_exclude": [
    "module",
    "function",
    "builtin_function_or_method",
    "instance",
    "_Feature"
   ],
   "window_display": false
  }
 },
 "nbformat": 4,
 "nbformat_minor": 2
}
